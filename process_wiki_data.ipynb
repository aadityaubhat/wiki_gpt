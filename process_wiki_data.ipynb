{
 "cells": [
  {
   "cell_type": "code",
   "execution_count": 2,
   "metadata": {},
   "outputs": [
    {
     "name": "stderr",
     "output_type": "stream",
     "text": [
      "/Users/aadityabhat/Documents/wiki_gpt/venv/lib/python3.10/site-packages/tqdm/auto.py:22: TqdmWarning: IProgress not found. Please update jupyter and ipywidgets. See https://ipywidgets.readthedocs.io/en/stable/user_install.html\n",
      "  from .autonotebook import tqdm as notebook_tqdm\n"
     ]
    }
   ],
   "source": [
    "from datasets import load_dataset\n",
    "from tqdm import tqdm\n",
    "import pandas as pd\n",
    "import pyarrow as pa\n",
    "import pyarrow.compute as pc\n",
    "import re\n",
    "import pyarrow.dataset as ds"
   ]
  },
  {
   "cell_type": "code",
   "execution_count": 5,
   "metadata": {},
   "outputs": [
    {
     "name": "stderr",
     "output_type": "stream",
     "text": [
      "Found cached dataset wikipedia (/Users/aadityabhat/.cache/huggingface/datasets/wikipedia/20220301.en/2.0.0/aa542ed919df55cc5d3347f42dd4521d05ca68751f50dbc32bae2a7f1e167559)\n"
     ]
    }
   ],
   "source": [
    "dataset = load_dataset(\"wikipedia\", \"20220301.en\", split=\"train\")"
   ]
  },
  {
   "cell_type": "code",
   "execution_count": 3,
   "metadata": {},
   "outputs": [],
   "source": [
    "data_df = dataset.to_pandas()"
   ]
  },
  {
   "cell_type": "code",
   "execution_count": 6,
   "metadata": {},
   "outputs": [],
   "source": [
    "def keep_intro(text):\n",
    "    return re.sub(r'\\(\\W*\\)', '', ' '.join(text.split('\\n\\n')[:2]))"
   ]
  },
  {
   "cell_type": "code",
   "execution_count": 7,
   "metadata": {},
   "outputs": [],
   "source": [
    "data_df['intro'] = data_df.apply(lambda row: keep_intro(row['text']), axis=1)"
   ]
  },
  {
   "cell_type": "code",
   "execution_count": 9,
   "metadata": {},
   "outputs": [],
   "source": [
    "data_df[['id', 'title', 'url', 'intro']].to_csv('wiki_intro.csv', index=False)"
   ]
  },
  {
   "cell_type": "code",
   "execution_count": 3,
   "metadata": {},
   "outputs": [],
   "source": [
    "data_df = pd.read_csv('wiki_intro.csv')"
   ]
  },
  {
   "cell_type": "code",
   "execution_count": 4,
   "metadata": {},
   "outputs": [
    {
     "data": {
      "text/plain": [
       "6458670"
      ]
     },
     "execution_count": 4,
     "metadata": {},
     "output_type": "execute_result"
    }
   ],
   "source": [
    "len(data_df)"
   ]
  },
  {
   "cell_type": "code",
   "execution_count": 5,
   "metadata": {},
   "outputs": [
    {
     "data": {
      "text/html": [
       "<div>\n",
       "<style scoped>\n",
       "    .dataframe tbody tr th:only-of-type {\n",
       "        vertical-align: middle;\n",
       "    }\n",
       "\n",
       "    .dataframe tbody tr th {\n",
       "        vertical-align: top;\n",
       "    }\n",
       "\n",
       "    .dataframe thead th {\n",
       "        text-align: right;\n",
       "    }\n",
       "</style>\n",
       "<table border=\"1\" class=\"dataframe\">\n",
       "  <thead>\n",
       "    <tr style=\"text-align: right;\">\n",
       "      <th></th>\n",
       "      <th>id</th>\n",
       "      <th>title</th>\n",
       "      <th>url</th>\n",
       "      <th>intro</th>\n",
       "    </tr>\n",
       "  </thead>\n",
       "  <tbody>\n",
       "    <tr>\n",
       "      <th>0</th>\n",
       "      <td>12</td>\n",
       "      <td>Anarchism</td>\n",
       "      <td>https://en.wikipedia.org/wiki/Anarchism</td>\n",
       "      <td>Anarchism is a political philosophy and moveme...</td>\n",
       "    </tr>\n",
       "    <tr>\n",
       "      <th>1</th>\n",
       "      <td>25</td>\n",
       "      <td>Autism</td>\n",
       "      <td>https://en.wikipedia.org/wiki/Autism</td>\n",
       "      <td>Autism is a neurodevelopmental disorder charac...</td>\n",
       "    </tr>\n",
       "    <tr>\n",
       "      <th>2</th>\n",
       "      <td>39</td>\n",
       "      <td>Albedo</td>\n",
       "      <td>https://en.wikipedia.org/wiki/Albedo</td>\n",
       "      <td>Albedo  is the measure of the diffuse reflecti...</td>\n",
       "    </tr>\n",
       "    <tr>\n",
       "      <th>3</th>\n",
       "      <td>290</td>\n",
       "      <td>A</td>\n",
       "      <td>https://en.wikipedia.org/wiki/A</td>\n",
       "      <td>A, or a, is the first letter and the first vow...</td>\n",
       "    </tr>\n",
       "    <tr>\n",
       "      <th>4</th>\n",
       "      <td>303</td>\n",
       "      <td>Alabama</td>\n",
       "      <td>https://en.wikipedia.org/wiki/Alabama</td>\n",
       "      <td>Alabama  is a state in the Southeastern region...</td>\n",
       "    </tr>\n",
       "    <tr>\n",
       "      <th>...</th>\n",
       "      <td>...</td>\n",
       "      <td>...</td>\n",
       "      <td>...</td>\n",
       "      <td>...</td>\n",
       "    </tr>\n",
       "    <tr>\n",
       "      <th>6458665</th>\n",
       "      <td>70201819</td>\n",
       "      <td>Bianca Fernandez</td>\n",
       "      <td>https://en.wikipedia.org/wiki/Bianca%20Fernandez</td>\n",
       "      <td>Bianca Jolie Fernandez (born 24 February 2004)...</td>\n",
       "    </tr>\n",
       "    <tr>\n",
       "      <th>6458666</th>\n",
       "      <td>70201882</td>\n",
       "      <td>Condons and Clangibbon</td>\n",
       "      <td>https://en.wikipedia.org/wiki/Condons%20and%20...</td>\n",
       "      <td>Condons and Clangibbon  is a barony in County ...</td>\n",
       "    </tr>\n",
       "    <tr>\n",
       "      <th>6458667</th>\n",
       "      <td>70201886</td>\n",
       "      <td>2022 Chattanooga Red Wolves SC season</td>\n",
       "      <td>https://en.wikipedia.org/wiki/2022%20Chattanoo...</td>\n",
       "      <td>The 2022 Chattanooga Red Wolves SC season will...</td>\n",
       "    </tr>\n",
       "    <tr>\n",
       "      <th>6458668</th>\n",
       "      <td>70201947</td>\n",
       "      <td>Nkiko Prosper</td>\n",
       "      <td>https://en.wikipedia.org/wiki/Nkiko%20Prosper</td>\n",
       "      <td>Turatsinze Nkiko Prosper (born 1985) professio...</td>\n",
       "    </tr>\n",
       "    <tr>\n",
       "      <th>6458669</th>\n",
       "      <td>70201959</td>\n",
       "      <td>Michael O'Donnell (Missouri politician)</td>\n",
       "      <td>https://en.wikipedia.org/wiki/Michael%20O%27Do...</td>\n",
       "      <td>Michael A. O'Donnell (born June 17, 1968) is a...</td>\n",
       "    </tr>\n",
       "  </tbody>\n",
       "</table>\n",
       "<p>6458670 rows × 4 columns</p>\n",
       "</div>"
      ],
      "text/plain": [
       "               id                                    title  \\\n",
       "0              12                                Anarchism   \n",
       "1              25                                   Autism   \n",
       "2              39                                   Albedo   \n",
       "3             290                                        A   \n",
       "4             303                                  Alabama   \n",
       "...           ...                                      ...   \n",
       "6458665  70201819                         Bianca Fernandez   \n",
       "6458666  70201882                   Condons and Clangibbon   \n",
       "6458667  70201886    2022 Chattanooga Red Wolves SC season   \n",
       "6458668  70201947                            Nkiko Prosper   \n",
       "6458669  70201959  Michael O'Donnell (Missouri politician)   \n",
       "\n",
       "                                                       url  \\\n",
       "0                  https://en.wikipedia.org/wiki/Anarchism   \n",
       "1                     https://en.wikipedia.org/wiki/Autism   \n",
       "2                     https://en.wikipedia.org/wiki/Albedo   \n",
       "3                          https://en.wikipedia.org/wiki/A   \n",
       "4                    https://en.wikipedia.org/wiki/Alabama   \n",
       "...                                                    ...   \n",
       "6458665   https://en.wikipedia.org/wiki/Bianca%20Fernandez   \n",
       "6458666  https://en.wikipedia.org/wiki/Condons%20and%20...   \n",
       "6458667  https://en.wikipedia.org/wiki/2022%20Chattanoo...   \n",
       "6458668      https://en.wikipedia.org/wiki/Nkiko%20Prosper   \n",
       "6458669  https://en.wikipedia.org/wiki/Michael%20O%27Do...   \n",
       "\n",
       "                                                     intro  \n",
       "0        Anarchism is a political philosophy and moveme...  \n",
       "1        Autism is a neurodevelopmental disorder charac...  \n",
       "2        Albedo  is the measure of the diffuse reflecti...  \n",
       "3        A, or a, is the first letter and the first vow...  \n",
       "4        Alabama  is a state in the Southeastern region...  \n",
       "...                                                    ...  \n",
       "6458665  Bianca Jolie Fernandez (born 24 February 2004)...  \n",
       "6458666  Condons and Clangibbon  is a barony in County ...  \n",
       "6458667  The 2022 Chattanooga Red Wolves SC season will...  \n",
       "6458668  Turatsinze Nkiko Prosper (born 1985) professio...  \n",
       "6458669  Michael A. O'Donnell (born June 17, 1968) is a...  \n",
       "\n",
       "[6458670 rows x 4 columns]"
      ]
     },
     "execution_count": 5,
     "metadata": {},
     "output_type": "execute_result"
    }
   ],
   "source": [
    "data_df"
   ]
  },
  {
   "attachments": {},
   "cell_type": "markdown",
   "metadata": {},
   "source": [
    "## Data Cleaning"
   ]
  },
  {
   "cell_type": "code",
   "execution_count": 14,
   "metadata": {},
   "outputs": [],
   "source": [
    "data_df = data_df[data_df.apply(lambda x : len(str(x['title'])) > 1, axis = 1)]"
   ]
  },
  {
   "cell_type": "code",
   "execution_count": 15,
   "metadata": {},
   "outputs": [
    {
     "name": "stderr",
     "output_type": "stream",
     "text": [
      "/var/folders/b5/qwcw21mn3973c1z_c12dw6hw0000gn/T/ipykernel_849/2014648341.py:1: SettingWithCopyWarning: \n",
      "A value is trying to be set on a copy of a slice from a DataFrame.\n",
      "Try using .loc[row_indexer,col_indexer] = value instead\n",
      "\n",
      "See the caveats in the documentation: https://pandas.pydata.org/pandas-docs/stable/user_guide/indexing.html#returning-a-view-versus-a-copy\n",
      "  data_df['intro_len'] = data_df.apply(lambda row: len(row['intro'].split(' ')), axis = 1)\n"
     ]
    }
   ],
   "source": [
    "data_df['intro_len'] = data_df.apply(lambda row: len(row['intro'].split(' ')), axis = 1)"
   ]
  },
  {
   "cell_type": "code",
   "execution_count": 16,
   "metadata": {},
   "outputs": [
    {
     "data": {
      "text/plain": [
       "<AxesSubplot: >"
      ]
     },
     "execution_count": 16,
     "metadata": {},
     "output_type": "execute_result"
    },
    {
     "data": {
      "image/png": "[encoded data removed]",
      "text/plain": [
       "<Figure size 640x480 with 1 Axes>"
      ]
     },
     "metadata": {},
     "output_type": "display_data"
    }
   ],
   "source": [
    "data_df['intro_len'].hist(bins=[0,50,100,150,200,250,300,350,400])"
   ]
  },
  {
   "cell_type": "code",
   "execution_count": 20,
   "metadata": {},
   "outputs": [],
   "source": [
    "data_df = data_df[data_df['intro_len'].between(150, 350)]"
   ]
  },
  {
   "cell_type": "code",
   "execution_count": 23,
   "metadata": {},
   "outputs": [],
   "source": [
    "data_df['title_len'] = data_df.apply(lambda row: len(row['title'].split(' ')), axis = 1)"
   ]
  },
  {
   "cell_type": "code",
   "execution_count": 26,
   "metadata": {},
   "outputs": [
    {
     "data": {
      "text/plain": [
       "<AxesSubplot: >"
      ]
     },
     "execution_count": 26,
     "metadata": {},
     "output_type": "execute_result"
    },
    {
     "data": {
      "image/png": "[encoded data removed]",
      "text/plain": [
       "<Figure size 640x480 with 1 Axes>"
      ]
     },
     "metadata": {},
     "output_type": "display_data"
    }
   ],
   "source": [
    "data_df.title_len.hist(bins=[1,2,3,4,5,6,7,8,9,10])"
   ]
  },
  {
   "cell_type": "code",
   "execution_count": 27,
   "metadata": {},
   "outputs": [],
   "source": [
    "data_df = data_df[data_df['title_len'] < 4]"
   ]
  },
  {
   "cell_type": "code",
   "execution_count": 34,
   "metadata": {},
   "outputs": [],
   "source": [
    "data_df = data_df.sample(n=150000, random_state=1111)"
   ]
  },
  {
   "cell_type": "code",
   "execution_count": 35,
   "metadata": {},
   "outputs": [
    {
     "data": {
      "text/plain": [
       "<AxesSubplot: >"
      ]
     },
     "execution_count": 35,
     "metadata": {},
     "output_type": "execute_result"
    },
    {
     "data": {
      "image/png": "[encoded data removed]",
      "text/plain": [
       "<Figure size 640x480 with 1 Axes>"
      ]
     },
     "metadata": {},
     "output_type": "display_data"
    }
   ],
   "source": [
    "data_df['intro_len'].hist()"
   ]
  },
  {
   "cell_type": "code",
   "execution_count": 4,
   "metadata": {},
   "outputs": [],
   "source": [
    "data_df['starter_text'] = data_df['intro'].apply(lambda x: ' '.join(str(x).split(' ')[:7]))"
   ]
  },
  {
   "cell_type": "code",
   "execution_count": 6,
   "metadata": {},
   "outputs": [],
   "source": [
    "data_df.to_csv('wiki_intro_processed.csv', index=False)"
   ]
  }
 ],
 "metadata": {
  "kernelspec": {
   "display_name": "venv",
   "language": "python",
   "name": "python3"
  },
  "language_info": {
   "codemirror_mode": {
    "name": "ipython",
    "version": 3
   },
   "file_extension": ".py",
   "mimetype": "text/x-python",
   "name": "python",
   "nbconvert_exporter": "python",
   "pygments_lexer": "ipython3",
   "version": "3.10.6 (main, Aug 30 2022, 05:12:36) [Clang 13.1.6 (clang-1316.0.21.2.5)]"
  },
  "orig_nbformat": 4,
  "vscode": {
   "interpreter": {
    "hash": "3f100d68d9cf80676b1a4c3ace5430b03ae266a1d88e3f101eb196b64b263632"
   }
  }
 },
 "nbformat": 4,
 "nbformat_minor": 2
}
